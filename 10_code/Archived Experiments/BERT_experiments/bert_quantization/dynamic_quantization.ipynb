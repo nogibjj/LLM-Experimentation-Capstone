{
 "cells": [
  {
   "cell_type": "markdown",
   "metadata": {},
   "source": [
    "### 1. Read the base model and create the modified model"
   ]
  },
  {
   "cell_type": "code",
   "execution_count": 1,
   "metadata": {},
   "outputs": [
    {
     "name": "stderr",
     "output_type": "stream",
     "text": [
      "/home/codespace/.local/lib/python3.10/site-packages/tqdm/auto.py:21: TqdmWarning: IProgress not found. Please update jupyter and ipywidgets. See https://ipywidgets.readthedocs.io/en/stable/user_install.html\n",
      "  from .autonotebook import tqdm as notebook_tqdm\n"
     ]
    },
    {
     "name": "stdout",
     "output_type": "stream",
     "text": [
      "Using device: cuda\n"
     ]
    }
   ],
   "source": [
    "import torch\n",
    "from transformers import AutoModelForSequenceClassification, AutoTokenizer\n",
    "import torch.quantization\n",
    "\n",
    "from torch import cuda\n",
    "device = 'cuda' if cuda.is_available() else 'cpu'\n",
    "print(\"Using device:\", device)\n",
    "\n",
    "\n",
    "# Step 1: Load the pre-trained Hugging Face model\n",
    "model_name = \"/workspaces/LLM-Experimentation-Capstone/50_models/bert-student-distilled-model\"  # Replace with the model name you want to use\n",
    "model = AutoModelForSequenceClassification.from_pretrained(model_name)\n",
    "tokenizer = AutoTokenizer.from_pretrained(model_name)\n",
    "\n",
    "# Step 2: Prepare input data and inference pipeline\n",
    "input_text = \"This is an example sentence to test quantization.\"\n",
    "inputs = tokenizer(input_text, return_tensors=\"pt\", padding=True, truncation=True)\n",
    "\n",
    "# Step 3: Create a quantization configuration and quantize the model\n",
    "quantized_model = torch.quantization.quantize_dynamic(\n",
    "    model,  # Original model\n",
    "    qconfig_spec={torch.nn.Linear},  # Configuration for quantizing linear layers\n",
    "    dtype=torch.qint8,  # Quantization data type (int8)\n",
    ")"
   ]
  },
  {
   "cell_type": "markdown",
   "metadata": {},
   "source": [
    "### 2. Evaluate the modified model"
   ]
  },
  {
   "cell_type": "markdown",
   "metadata": {},
   "source": [
    "##### 2.1 Model Size"
   ]
  },
  {
   "cell_type": "code",
   "execution_count": 2,
   "metadata": {},
   "outputs": [
    {
     "name": "stdout",
     "output_type": "stream",
     "text": [
      "Base model size: 255.443MB\n",
      "Base model size: 91.000MB\n"
     ]
    }
   ],
   "source": [
    "param_size = 0\n",
    "for param in model.parameters():\n",
    "    param_size += param.nelement() * param.element_size()\n",
    "buffer_size = 0\n",
    "for buffer in model.buffers():\n",
    "    buffer_size += buffer.nelement() * buffer.element_size()\n",
    "\n",
    "base_model_size = (param_size + buffer_size) / 1024**2\n",
    "print('Base model size: {:.3f}MB'.format(base_model_size))\n",
    "\n",
    "param_size = 0\n",
    "for param in quantized_model.parameters():\n",
    "    param_size += param.nelement() * param.element_size()\n",
    "buffer_size = 0\n",
    "for buffer in quantized_model.buffers():\n",
    "    buffer_size += buffer.nelement() * buffer.element_size()\n",
    "\n",
    "quantized_model_size = (param_size + buffer_size) / 1024**2\n",
    "print('Base model size: {:.3f}MB'.format(quantized_model_size))"
   ]
  },
  {
   "cell_type": "code",
   "execution_count": 4,
   "metadata": {},
   "outputs": [
    {
     "name": "stdout",
     "output_type": "stream",
     "text": [
      "Labels: [1, 0, 1, 0, 0, 0, 0, 0, 0, 0, 0]\n",
      "Text: @RanaAyyub @rajnathsingh Oh, hidden revenge and anger...I rememberthe time,she rebutted you.\n",
      "count    886.000000\n",
      "mean       0.022461\n",
      "std        0.013893\n",
      "min        0.009304\n",
      "25%        0.015398\n",
      "50%        0.018801\n",
      "75%        0.024982\n",
      "max        0.159424\n",
      "dtype: float64\n",
      "{'f1': 0.6859710434348477, 'roc_auc': 0.786860254459943, 'accuracy': 0.2505643340857788}\n"
     ]
    }
   ],
   "source": [
    "from datasets import load_dataset\n",
    "from sklearn.metrics import f1_score, roc_auc_score, accuracy_score\n",
    "import time\n",
    "import pandas as pd\n",
    "dataset = load_dataset(\"sem_eval_2018_task_1\", \"subtask5.english\")\n",
    "dataset = dataset['validation']\n",
    "\n",
    "input = [x['Tweet'] for x in dataset]\n",
    "\n",
    "def convert_dict_to_labels(dictionary):\n",
    "    return [int(dictionary[key]) for key in dictionary if key not in ['ID', 'Tweet']]\n",
    "# Iterate through the list of dictionaries and convert each one\n",
    "labels = [convert_dict_to_labels(data_dict) for data_dict in dataset]\n",
    "print(\"Labels:\", labels[0])\n",
    "print(\"Text:\" , input[0])\n",
    "\n",
    "def multi_label_metrics(predictions, labels, threshold=0.5):\n",
    "    # first, apply sigmoid on predictions which are of shape (batch_size, num_labels)\n",
    "    sigmoid = torch.nn.Sigmoid()\n",
    "    probs = [sigmoid(tensor) for tensor in predictions]\n",
    "    # next, use threshold to turn them into integer predictions\n",
    "    y_pred = []\n",
    "    for inner_list in probs:\n",
    "        new_inner_list = [1 if value > threshold else 0 for value in list(inner_list[0])]\n",
    "        y_pred.append(new_inner_list)\n",
    "\n",
    "    # finally, compute metrics\n",
    "    y_true = labels\n",
    "    f1_micro_average = f1_score(y_true=y_true, y_pred=y_pred, average='micro')\n",
    "    roc_auc = roc_auc_score(y_true, y_pred, average = 'micro')\n",
    "    accuracy = accuracy_score(y_true, y_pred)\n",
    "    # return as dictionary\n",
    "    metrics = {'f1': f1_micro_average,\n",
    "               'roc_auc': roc_auc,\n",
    "               'accuracy': accuracy}\n",
    "    return metrics\n",
    "\n",
    "predictions = []\n",
    "times = []\n",
    "\n",
    "for input_ in input:\n",
    "    inputs = tokenizer(input_, return_tensors=\"pt\", padding=True, truncation=True)\n",
    "    st = time.time()\n",
    "    quantized_output = quantized_model(**inputs).logits\n",
    "    predictions.append(quantized_output)\n",
    "    times.append(time.time() - st)\n",
    "\n",
    "print(pd.Series(times).describe().T)\n",
    "print(multi_label_metrics(predictions, labels))\n"
   ]
  },
  {
   "cell_type": "code",
   "execution_count": 6,
   "metadata": {},
   "outputs": [
    {
     "ename": "SyntaxError",
     "evalue": "incomplete input (93307022.py, line 3)",
     "output_type": "error",
     "traceback": [
      "\u001b[0;36m  Cell \u001b[0;32mIn[6], line 3\u001b[0;36m\u001b[0m\n\u001b[0;31m    \"\"\"\u001b[0m\n\u001b[0m    ^\u001b[0m\n\u001b[0;31mSyntaxError\u001b[0m\u001b[0;31m:\u001b[0m incomplete input\n"
     ]
    }
   ],
   "source": [
    "\"\"\"\n",
    "Could not run 'quantized::linear_dynamic' with arguments from the 'CUDA' backend. This could be because the operator doesn't exist for this backend, or was omitted during the selective/custom build process (if using custom build). If you are a Facebook employee using PyTorch on mobile, please visit https://fburl.com/ptmfixes for possible resolutions. 'quantized::linear_dynamic' is only available for these backends: [CPU, BackendSelect, Python, FuncTorchDynamicLayerBackMode, Functionalize, Named, Conjugate, Negative, ZeroTensor, ADInplaceOrView, AutogradOther, AutogradCPU, AutogradCUDA, AutogradXLA, AutogradMPS, AutogradXPU, AutogradHPU, AutogradLazy, AutogradMeta, Tracer, AutocastCPU, AutocastCUDA, FuncTorchBatched, FuncTorchVmapMode, Batched, VmapMode, FuncTorchGradWrapper, PythonTLSSnapshot, FuncTorchDynamicLayerFrontMode, PreDispatch, PythonDispatcher]\"\"\" \n",
    "\"\"\""
   ]
  }
 ],
 "metadata": {
  "kernelspec": {
   "display_name": "Python 3",
   "language": "python",
   "name": "python3"
  },
  "language_info": {
   "codemirror_mode": {
    "name": "ipython",
    "version": 3
   },
   "file_extension": ".py",
   "mimetype": "text/x-python",
   "name": "python",
   "nbconvert_exporter": "python",
   "pygments_lexer": "ipython3",
   "version": "3.10.8"
  }
 },
 "nbformat": 4,
 "nbformat_minor": 2
}
