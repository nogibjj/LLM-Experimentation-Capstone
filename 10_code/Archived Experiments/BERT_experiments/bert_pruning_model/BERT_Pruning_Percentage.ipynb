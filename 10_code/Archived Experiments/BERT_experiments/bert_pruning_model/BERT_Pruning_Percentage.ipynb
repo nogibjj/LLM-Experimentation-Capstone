{
 "cells": [
  {
   "cell_type": "code",
   "execution_count": 11,
   "metadata": {},
   "outputs": [],
   "source": [
    "import pandas as pd\n",
    "import numpy as np\n",
    "from sklearn import metrics\n",
    "import torch\n",
    "from torch.utils.data import Dataset, DataLoader, RandomSampler, SequentialSampler\n",
    "import transformers\n",
    "from transformers import (AutoModelForSequenceClassification, AutoTokenizer, \n",
    "                          Trainer, TrainingArguments)\n",
    "import time\n",
    "import torch.nn as nn\n",
    "import torch.nn.functional as F\n",
    "from sklearn.metrics import f1_score, roc_auc_score, accuracy_score\n",
    "from torch.nn.utils import prune"
   ]
  },
  {
   "cell_type": "code",
   "execution_count": 12,
   "metadata": {},
   "outputs": [
    {
     "name": "stdout",
     "output_type": "stream",
     "text": [
      "Using device: cuda\n"
     ]
    }
   ],
   "source": [
    "# # Setting up the device for GPU usage\n",
    "from torch import cuda\n",
    "device = 'cuda' if cuda.is_available() else 'cpu'\n",
    "print(\"Using device:\", device)"
   ]
  },
  {
   "cell_type": "markdown",
   "metadata": {},
   "source": [
    "### Preporcess Data and Define Metrics"
   ]
  },
  {
   "cell_type": "code",
   "execution_count": 13,
   "metadata": {},
   "outputs": [
    {
     "data": {
      "text/plain": [
       "DatasetDict({\n",
       "    train: Dataset({\n",
       "        features: ['ID', 'Tweet', 'anger', 'anticipation', 'disgust', 'fear', 'joy', 'love', 'optimism', 'pessimism', 'sadness', 'surprise', 'trust'],\n",
       "        num_rows: 6838\n",
       "    })\n",
       "    test: Dataset({\n",
       "        features: ['ID', 'Tweet', 'anger', 'anticipation', 'disgust', 'fear', 'joy', 'love', 'optimism', 'pessimism', 'sadness', 'surprise', 'trust'],\n",
       "        num_rows: 3259\n",
       "    })\n",
       "    validation: Dataset({\n",
       "        features: ['ID', 'Tweet', 'anger', 'anticipation', 'disgust', 'fear', 'joy', 'love', 'optimism', 'pessimism', 'sadness', 'surprise', 'trust'],\n",
       "        num_rows: 886\n",
       "    })\n",
       "})"
      ]
     },
     "execution_count": 13,
     "metadata": {},
     "output_type": "execute_result"
    }
   ],
   "source": [
    "from datasets import load_dataset\n",
    "\n",
    "dataset = load_dataset(\"sem_eval_2018_task_1\", \"subtask5.english\")\n",
    "dataset"
   ]
  },
  {
   "cell_type": "code",
   "execution_count": 14,
   "metadata": {},
   "outputs": [
    {
     "data": {
      "text/plain": [
       "['anger',\n",
       " 'anticipation',\n",
       " 'disgust',\n",
       " 'fear',\n",
       " 'joy',\n",
       " 'love',\n",
       " 'optimism',\n",
       " 'pessimism',\n",
       " 'sadness',\n",
       " 'surprise',\n",
       " 'trust']"
      ]
     },
     "execution_count": 14,
     "metadata": {},
     "output_type": "execute_result"
    }
   ],
   "source": [
    "# prepare the labels dataset for inference\n",
    "labels = [label for label in dataset['train'].features.keys() if label not in ['ID', 'Tweet']]\n",
    "id2label = {idx:label for idx, label in enumerate(labels)}\n",
    "label2id = {label:idx for idx, label in enumerate(labels)}\n",
    "labels"
   ]
  },
  {
   "cell_type": "code",
   "execution_count": 15,
   "metadata": {},
   "outputs": [],
   "source": [
    "tokenizer = AutoTokenizer.from_pretrained(\"bert-base-uncased\")\n",
    "\n",
    "def preprocess_data(examples):\n",
    "  # take a batch of texts\n",
    "  text = examples[\"Tweet\"]\n",
    "  # encode them\n",
    "  encoding = tokenizer(text, padding=\"max_length\", truncation=True, max_length=128)\n",
    "  # add labels\n",
    "  labels_batch = {k: examples[k] for k in examples.keys() if k in labels}\n",
    "  # create numpy array of shape (batch_size, num_labels)\n",
    "  labels_matrix = np.zeros((len(text), len(labels)))\n",
    "  # fill numpy array\n",
    "  for idx, label in enumerate(labels):\n",
    "    labels_matrix[:, idx] = labels_batch[label]\n",
    "\n",
    "  encoding[\"labels\"] = labels_matrix.tolist()\n",
    "  \n",
    "  return encoding"
   ]
  },
  {
   "cell_type": "code",
   "execution_count": 16,
   "metadata": {},
   "outputs": [],
   "source": [
    "# preprocess data\n",
    "encoded_dataset = dataset.map(preprocess_data, batched=True, remove_columns=dataset['train'].column_names)\n",
    "encoded_dataset.set_format(\"torch\")"
   ]
  },
  {
   "cell_type": "code",
   "execution_count": 17,
   "metadata": {},
   "outputs": [],
   "source": [
    "batch_size = 8\n",
    "metric_name = \"f1\""
   ]
  },
  {
   "cell_type": "code",
   "execution_count": 18,
   "metadata": {},
   "outputs": [],
   "source": [
    "from sklearn.metrics import f1_score, roc_auc_score, accuracy_score\n",
    "from transformers import EvalPrediction\n",
    "import torch\n",
    "    \n",
    "def multi_label_metrics(predictions, labels, threshold=0.5):\n",
    "    # first, apply sigmoid on predictions which are of shape (batch_size, num_labels)\n",
    "    sigmoid = torch.nn.Sigmoid()\n",
    "    probs = sigmoid(torch.Tensor(predictions))\n",
    "    # next, use threshold to turn them into integer predictions\n",
    "    y_pred = np.zeros(probs.shape)\n",
    "    y_pred[np.where(probs >= threshold)] = 1\n",
    "    # finally, compute metrics\n",
    "    y_true = labels\n",
    "    f1_micro_average = f1_score(y_true=y_true, y_pred=y_pred, average='micro')\n",
    "    roc_auc = roc_auc_score(y_true, y_pred, average = 'micro')\n",
    "    accuracy = accuracy_score(y_true, y_pred)\n",
    "    # return as dictionary\n",
    "    metrics = {'f1': f1_micro_average,\n",
    "               'roc_auc': roc_auc,\n",
    "               'accuracy': accuracy}\n",
    "    return metrics\n",
    "\n",
    "def compute_metrics(p: EvalPrediction):\n",
    "    preds = p.predictions[0] if isinstance(p.predictions, \n",
    "            tuple) else p.predictions\n",
    "    result = multi_label_metrics(\n",
    "        predictions=preds, \n",
    "        labels=p.label_ids)\n",
    "    return result"
   ]
  },
  {
   "cell_type": "markdown",
   "metadata": {},
   "source": [
    "### Load the Fine-Tuned BERT Model"
   ]
  },
  {
   "cell_type": "code",
   "execution_count": 19,
   "metadata": {},
   "outputs": [],
   "source": [
    "fine_tuned_path = \"/workspaces/LLM-Experimentation-Capstone/10_code/BERT_experiments/bert_base_model/bert-pruned-sem_eval-english\""
   ]
  },
  {
   "cell_type": "code",
   "execution_count": 20,
   "metadata": {},
   "outputs": [],
   "source": [
    "model_tokenizer = AutoTokenizer.from_pretrained(fine_tuned_path)\n",
    "model = AutoModelForSequenceClassification.from_pretrained(fine_tuned_path, \n",
    "                                                           problem_type=\"multi_label_classification\", \n",
    "                                                           num_labels=len(labels),\n",
    "                                                           id2label=id2label,\n",
    "                                                           label2id=label2id).to(device)"
   ]
  },
  {
   "cell_type": "code",
   "execution_count": 21,
   "metadata": {},
   "outputs": [
    {
     "name": "stdout",
     "output_type": "stream",
     "text": [
      "Base model size (before pruning): 417.682MB\n"
     ]
    }
   ],
   "source": [
    "def get_model_size(model):\n",
    "    param_size = sum(p.nelement() * p.element_size() for p in model.parameters())\n",
    "    buffer_size = sum(b.nelement() * b.element_size() for b in model.buffers())\n",
    "    model_size = (param_size + buffer_size) / 1024**2\n",
    "    return model_size\n",
    "\n",
    "base_model_size = get_model_size(model)  # Before pruning\n",
    "print('Base model size (before pruning): {:.3f}MB'.format(base_model_size))"
   ]
  },
  {
   "cell_type": "markdown",
   "metadata": {},
   "source": [
    "### Apply Pruning "
   ]
  },
  {
   "cell_type": "code",
   "execution_count": 22,
   "metadata": {},
   "outputs": [],
   "source": [
    "parameters_to_prune = (\n",
    "(model.bert.embeddings.word_embeddings, 'weight'),\n",
    "(model.bert.encoder.layer[0].attention.self.query, 'weight'),\n",
    "(model.bert.encoder.layer[0].attention.self.key, 'weight'),\n",
    "(model.bert.encoder.layer[0].attention.self.value, 'weight'),\n",
    "(model.bert.encoder.layer[0].attention.output.dense, 'weight'),\n",
    "(model.bert.encoder.layer[0].intermediate.dense, 'weight'),\n",
    "(model.bert.encoder.layer[0].output.dense, 'weight'),\n",
    ")"
   ]
  },
  {
   "cell_type": "code",
   "execution_count": 23,
   "metadata": {},
   "outputs": [],
   "source": [
    "from transformers import TrainingArguments, Trainer\n",
    "\n",
    "training_args = TrainingArguments(\n",
    "    output_dir='\"bert-pruned-sem_eval-english\"',\n",
    "    evaluation_strategy=\"epoch\",\n",
    "    save_strategy=\"epoch\",\n",
    "    learning_rate=2e-5,\n",
    "    per_device_train_batch_size=batch_size,\n",
    "    per_device_eval_batch_size=batch_size,\n",
    "    num_train_epochs=5,\n",
    "    weight_decay=0.01,\n",
    "    load_best_model_at_end=True,\n",
    "    metric_for_best_model=metric_name,\n",
    ")"
   ]
  },
  {
   "cell_type": "code",
   "execution_count": 24,
   "metadata": {},
   "outputs": [
    {
     "name": "stderr",
     "output_type": "stream",
     "text": [
      "/home/codespace/.local/lib/python3.10/site-packages/transformers/optimization.py:391: FutureWarning: This implementation of AdamW is deprecated and will be removed in a future version. Use the PyTorch implementation torch.optim.AdamW instead, or set `no_deprecation_warning=True` to disable this warning\n",
      "  warnings.warn(\n",
      "You're using a BertTokenizerFast tokenizer. Please note that with a fast tokenizer, using the `__call__` method is faster than using a method to encode the text followed by a call to the `pad` method to get a padded encoding.\n"
     ]
    },
    {
     "data": {
      "text/html": [
       "\n",
       "    <div>\n",
       "      \n",
       "      <progress value='4275' max='4275' style='width:300px; height:20px; vertical-align: middle;'></progress>\n",
       "      [4275/4275 06:28, Epoch 5/5]\n",
       "    </div>\n",
       "    <table border=\"1\" class=\"dataframe\">\n",
       "  <thead>\n",
       " <tr style=\"text-align: left;\">\n",
       "      <th>Epoch</th>\n",
       "      <th>Training Loss</th>\n",
       "      <th>Validation Loss</th>\n",
       "      <th>F1</th>\n",
       "      <th>Roc Auc</th>\n",
       "      <th>Accuracy</th>\n",
       "    </tr>\n",
       "  </thead>\n",
       "  <tbody>\n",
       "    <tr>\n",
       "      <td>1</td>\n",
       "      <td>0.133500</td>\n",
       "      <td>0.348790</td>\n",
       "      <td>0.701719</td>\n",
       "      <td>0.796507</td>\n",
       "      <td>0.273138</td>\n",
       "    </tr>\n",
       "    <tr>\n",
       "      <td>2</td>\n",
       "      <td>0.107200</td>\n",
       "      <td>0.374364</td>\n",
       "      <td>0.702041</td>\n",
       "      <td>0.802541</td>\n",
       "      <td>0.246050</td>\n",
       "    </tr>\n",
       "    <tr>\n",
       "      <td>3</td>\n",
       "      <td>0.105500</td>\n",
       "      <td>0.388134</td>\n",
       "      <td>0.694524</td>\n",
       "      <td>0.797850</td>\n",
       "      <td>0.237020</td>\n",
       "    </tr>\n",
       "    <tr>\n",
       "      <td>4</td>\n",
       "      <td>0.088900</td>\n",
       "      <td>0.396611</td>\n",
       "      <td>0.698535</td>\n",
       "      <td>0.800294</td>\n",
       "      <td>0.233634</td>\n",
       "    </tr>\n",
       "    <tr>\n",
       "      <td>5</td>\n",
       "      <td>0.070100</td>\n",
       "      <td>0.400799</td>\n",
       "      <td>0.699952</td>\n",
       "      <td>0.800523</td>\n",
       "      <td>0.247178</td>\n",
       "    </tr>\n",
       "  </tbody>\n",
       "</table><p>"
      ],
      "text/plain": [
       "<IPython.core.display.HTML object>"
      ]
     },
     "metadata": {},
     "output_type": "display_data"
    },
    {
     "data": {
      "text/html": [
       "\n",
       "    <div>\n",
       "      \n",
       "      <progress value='111' max='111' style='width:300px; height:20px; vertical-align: middle;'></progress>\n",
       "      [111/111 00:02]\n",
       "    </div>\n",
       "    "
      ],
      "text/plain": [
       "<IPython.core.display.HTML object>"
      ]
     },
     "metadata": {},
     "output_type": "display_data"
    },
    {
     "name": "stderr",
     "output_type": "stream",
     "text": [
      "/home/codespace/.local/lib/python3.10/site-packages/transformers/optimization.py:391: FutureWarning: This implementation of AdamW is deprecated and will be removed in a future version. Use the PyTorch implementation torch.optim.AdamW instead, or set `no_deprecation_warning=True` to disable this warning\n",
      "  warnings.warn(\n"
     ]
    },
    {
     "data": {
      "text/html": [
       "\n",
       "    <div>\n",
       "      \n",
       "      <progress value='4275' max='4275' style='width:300px; height:20px; vertical-align: middle;'></progress>\n",
       "      [4275/4275 06:44, Epoch 5/5]\n",
       "    </div>\n",
       "    <table border=\"1\" class=\"dataframe\">\n",
       "  <thead>\n",
       " <tr style=\"text-align: left;\">\n",
       "      <th>Epoch</th>\n",
       "      <th>Training Loss</th>\n",
       "      <th>Validation Loss</th>\n",
       "      <th>F1</th>\n",
       "      <th>Roc Auc</th>\n",
       "      <th>Accuracy</th>\n",
       "    </tr>\n",
       "  </thead>\n",
       "  <tbody>\n",
       "    <tr>\n",
       "      <td>1</td>\n",
       "      <td>0.081300</td>\n",
       "      <td>0.409497</td>\n",
       "      <td>0.699833</td>\n",
       "      <td>0.802546</td>\n",
       "      <td>0.256208</td>\n",
       "    </tr>\n",
       "    <tr>\n",
       "      <td>2</td>\n",
       "      <td>0.059700</td>\n",
       "      <td>0.443452</td>\n",
       "      <td>0.697936</td>\n",
       "      <td>0.803745</td>\n",
       "      <td>0.244921</td>\n",
       "    </tr>\n",
       "    <tr>\n",
       "      <td>3</td>\n",
       "      <td>0.077400</td>\n",
       "      <td>0.441037</td>\n",
       "      <td>0.690786</td>\n",
       "      <td>0.794875</td>\n",
       "      <td>0.225734</td>\n",
       "    </tr>\n",
       "    <tr>\n",
       "      <td>4</td>\n",
       "      <td>0.060300</td>\n",
       "      <td>0.451559</td>\n",
       "      <td>0.692783</td>\n",
       "      <td>0.798551</td>\n",
       "      <td>0.237020</td>\n",
       "    </tr>\n",
       "    <tr>\n",
       "      <td>5</td>\n",
       "      <td>0.044100</td>\n",
       "      <td>0.457142</td>\n",
       "      <td>0.697230</td>\n",
       "      <td>0.800430</td>\n",
       "      <td>0.241535</td>\n",
       "    </tr>\n",
       "  </tbody>\n",
       "</table><p>"
      ],
      "text/plain": [
       "<IPython.core.display.HTML object>"
      ]
     },
     "metadata": {},
     "output_type": "display_data"
    },
    {
     "data": {
      "text/html": [
       "\n",
       "    <div>\n",
       "      \n",
       "      <progress value='111' max='111' style='width:300px; height:20px; vertical-align: middle;'></progress>\n",
       "      [111/111 00:02]\n",
       "    </div>\n",
       "    "
      ],
      "text/plain": [
       "<IPython.core.display.HTML object>"
      ]
     },
     "metadata": {},
     "output_type": "display_data"
    },
    {
     "name": "stderr",
     "output_type": "stream",
     "text": [
      "/home/codespace/.local/lib/python3.10/site-packages/transformers/optimization.py:391: FutureWarning: This implementation of AdamW is deprecated and will be removed in a future version. Use the PyTorch implementation torch.optim.AdamW instead, or set `no_deprecation_warning=True` to disable this warning\n",
      "  warnings.warn(\n"
     ]
    },
    {
     "data": {
      "text/html": [
       "\n",
       "    <div>\n",
       "      \n",
       "      <progress value='4275' max='4275' style='width:300px; height:20px; vertical-align: middle;'></progress>\n",
       "      [4275/4275 06:40, Epoch 5/5]\n",
       "    </div>\n",
       "    <table border=\"1\" class=\"dataframe\">\n",
       "  <thead>\n",
       " <tr style=\"text-align: left;\">\n",
       "      <th>Epoch</th>\n",
       "      <th>Training Loss</th>\n",
       "      <th>Validation Loss</th>\n",
       "      <th>F1</th>\n",
       "      <th>Roc Auc</th>\n",
       "      <th>Accuracy</th>\n",
       "    </tr>\n",
       "  </thead>\n",
       "  <tbody>\n",
       "    <tr>\n",
       "      <td>1</td>\n",
       "      <td>0.077600</td>\n",
       "      <td>0.446041</td>\n",
       "      <td>0.693484</td>\n",
       "      <td>0.800439</td>\n",
       "      <td>0.237020</td>\n",
       "    </tr>\n",
       "    <tr>\n",
       "      <td>2</td>\n",
       "      <td>0.060500</td>\n",
       "      <td>0.473147</td>\n",
       "      <td>0.690207</td>\n",
       "      <td>0.798259</td>\n",
       "      <td>0.234763</td>\n",
       "    </tr>\n",
       "    <tr>\n",
       "      <td>3</td>\n",
       "      <td>0.076300</td>\n",
       "      <td>0.468750</td>\n",
       "      <td>0.683886</td>\n",
       "      <td>0.793267</td>\n",
       "      <td>0.222348</td>\n",
       "    </tr>\n",
       "    <tr>\n",
       "      <td>4</td>\n",
       "      <td>0.057600</td>\n",
       "      <td>0.480532</td>\n",
       "      <td>0.692921</td>\n",
       "      <td>0.800640</td>\n",
       "      <td>0.240406</td>\n",
       "    </tr>\n",
       "    <tr>\n",
       "      <td>5</td>\n",
       "      <td>0.042100</td>\n",
       "      <td>0.483564</td>\n",
       "      <td>0.691704</td>\n",
       "      <td>0.797691</td>\n",
       "      <td>0.234763</td>\n",
       "    </tr>\n",
       "  </tbody>\n",
       "</table><p>"
      ],
      "text/plain": [
       "<IPython.core.display.HTML object>"
      ]
     },
     "metadata": {},
     "output_type": "display_data"
    },
    {
     "data": {
      "text/html": [
       "\n",
       "    <div>\n",
       "      \n",
       "      <progress value='111' max='111' style='width:300px; height:20px; vertical-align: middle;'></progress>\n",
       "      [111/111 00:02]\n",
       "    </div>\n",
       "    "
      ],
      "text/plain": [
       "<IPython.core.display.HTML object>"
      ]
     },
     "metadata": {},
     "output_type": "display_data"
    }
   ],
   "source": [
    "pruning_weights = [0.2, 0.4, 0.6]\n",
    "results = []\n",
    "\n",
    "for pruning_weight in pruning_weights:\n",
    "    # Apply pruning\n",
    "    prune.global_unstructured(\n",
    "        parameters_to_prune,\n",
    "        pruning_method=prune.L1Unstructured,\n",
    "        amount=pruning_weight,\n",
    "    )\n",
    "    \n",
    "    # Fine-tune pruned model\n",
    "    pruned_model = model\n",
    "    trainer = Trainer(\n",
    "        model=pruned_model,\n",
    "        args=training_args,\n",
    "        train_dataset=encoded_dataset[\"train\"],\n",
    "        eval_dataset=encoded_dataset[\"validation\"],\n",
    "        tokenizer=model_tokenizer,\n",
    "        compute_metrics=compute_metrics\n",
    "    )\n",
    "    \n",
    "    train_start = time.time()\n",
    "    trainer.train()\n",
    "    train_end = time.time()\n",
    "    training_time = train_end - train_start\n",
    "    \n",
    "    # Evaluate pruned model\n",
    "    eval_start = time.time()\n",
    "    evaluation_metrics = trainer.evaluate()\n",
    "    eval_end = time.time()\n",
    "    evaluation_time = eval_end - eval_start\n",
    "    \n",
    "    # Record inference time\n",
    "    input = [x['Tweet'] for x in dataset['validation']]\n",
    "    pruned_inference_times = []\n",
    "    for input_ in input:\n",
    "        inputs = tokenizer(input_, return_tensors=\"pt\", padding=True, truncation=True).to(device)\n",
    "        start_time = time.time()\n",
    "        pruned_model(**inputs).logits\n",
    "        pruned_inference_times.append(time.time() - start_time)\n",
    "    \n",
    "    pruned_inference_times_series = pd.Series(pruned_inference_times)\n",
    "    inference_time_stats = pruned_inference_times_series.describe()\n",
    "    \n",
    "    # Calculate model size after pruning\n",
    "    for module, name in parameters_to_prune:\n",
    "        prune.remove(module, name)  # Make pruning permanent\n",
    "    pruned_model_size = get_model_size(pruned_model)\n",
    "    \n",
    "    # Save results\n",
    "    results.append({\n",
    "        'pruning_weight': pruning_weight,\n",
    "        'training_time': training_time,\n",
    "        'evaluation_time': evaluation_time,\n",
    "        'inference_time_stats': inference_time_stats,\n",
    "        'model_size_mb': pruned_model_size,\n",
    "        'evaluation_metrics': evaluation_metrics\n",
    "    })\n",
    "    \n",
    "    # Save pruned model\n",
    "    pruned_model_path = f\"./bert-pruned-{pruning_weight}-sem_eval-english\"\n",
    "    pruned_model.save_pretrained(pruned_model_path)\n",
    "    model_tokenizer.save_pretrained(pruned_model_path)"
   ]
  },
  {
   "cell_type": "code",
   "execution_count": 25,
   "metadata": {},
   "outputs": [
    {
     "name": "stdout",
     "output_type": "stream",
     "text": [
      "Pruning weight: 0.2\n",
      "Training time: 389.3823115825653\n",
      "Evaluation time: 2.5104432106018066\n",
      "Inference time statistics:\n",
      "count    886.000000\n",
      "mean       0.014701\n",
      "std        0.001159\n",
      "min        0.013908\n",
      "25%        0.014330\n",
      "50%        0.014458\n",
      "75%        0.014677\n",
      "max        0.029917\n",
      "dtype: float64\n",
      "Model size (MB): 417.6816825866699\n",
      "Evaluation metrics: {'eval_loss': 0.3743639588356018, 'eval_f1': 0.7020408163265306, 'eval_roc_auc': 0.8025409084212032, 'eval_accuracy': 0.24604966139954854, 'eval_runtime': 2.5086, 'eval_samples_per_second': 353.191, 'eval_steps_per_second': 44.249, 'epoch': 5.0}\n",
      "-----\n",
      "Pruning weight: 0.4\n",
      "Training time: 404.18692111968994\n",
      "Evaluation time: 2.521122455596924\n",
      "Inference time statistics:\n",
      "count    886.000000\n",
      "mean       0.014660\n",
      "std        0.000796\n",
      "min        0.013940\n",
      "25%        0.014364\n",
      "50%        0.014486\n",
      "75%        0.014676\n",
      "max        0.024588\n",
      "dtype: float64\n",
      "Model size (MB): 417.6816825866699\n",
      "Evaluation metrics: {'eval_loss': 0.4094970226287842, 'eval_f1': 0.699833373006427, 'eval_roc_auc': 0.8025461551437557, 'eval_accuracy': 0.2562076749435666, 'eval_runtime': 2.5191, 'eval_samples_per_second': 351.716, 'eval_steps_per_second': 44.064, 'epoch': 5.0}\n",
      "-----\n",
      "Pruning weight: 0.6\n",
      "Training time: 400.69437193870544\n",
      "Evaluation time: 2.5035603046417236\n",
      "Inference time statistics:\n",
      "count    886.000000\n",
      "mean       0.014660\n",
      "std        0.001241\n",
      "min        0.013652\n",
      "25%        0.014142\n",
      "50%        0.014343\n",
      "75%        0.014617\n",
      "max        0.028343\n",
      "dtype: float64\n",
      "Model size (MB): 417.6816825866699\n",
      "Evaluation metrics: {'eval_loss': 0.44604068994522095, 'eval_f1': 0.6934838861444366, 'eval_roc_auc': 0.8004393520053613, 'eval_accuracy': 0.23702031602708803, 'eval_runtime': 2.5017, 'eval_samples_per_second': 354.159, 'eval_steps_per_second': 44.37, 'epoch': 5.0}\n",
      "-----\n"
     ]
    }
   ],
   "source": [
    "for result in results:\n",
    "    print(f\"Pruning weight: {result['pruning_weight']}\")\n",
    "    print(f\"Training time: {result['training_time']}\")\n",
    "    print(f\"Evaluation time: {result['evaluation_time']}\")\n",
    "    print(\"Inference time statistics:\")\n",
    "    print(result['inference_time_stats'])\n",
    "    print(f\"Model size (MB): {result['model_size_mb']}\")\n",
    "    print(f\"Evaluation metrics: {result['evaluation_metrics']}\")\n",
    "    print(\"-----\")"
   ]
  }
 ],
 "metadata": {
  "kernelspec": {
   "display_name": "Python 3",
   "language": "python",
   "name": "python3"
  },
  "language_info": {
   "codemirror_mode": {
    "name": "ipython",
    "version": 3
   },
   "file_extension": ".py",
   "mimetype": "text/x-python",
   "name": "python",
   "nbconvert_exporter": "python",
   "pygments_lexer": "ipython3",
   "version": "3.10.8"
  }
 },
 "nbformat": 4,
 "nbformat_minor": 2
}
