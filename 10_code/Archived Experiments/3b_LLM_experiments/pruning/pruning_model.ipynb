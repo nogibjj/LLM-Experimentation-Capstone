{
 "cells": [
  {
   "cell_type": "code",
   "execution_count": 1,
   "metadata": {},
   "outputs": [
    {
     "name": "stderr",
     "output_type": "stream",
     "text": [
      "/home/codespace/.local/lib/python3.10/site-packages/tqdm/auto.py:21: TqdmWarning: IProgress not found. Please update jupyter and ipywidgets. See https://ipywidgets.readthedocs.io/en/stable/user_install.html\n",
      "  from .autonotebook import tqdm as notebook_tqdm\n",
      "Found cached dataset human-vs-machine (/home/codespace/.cache/huggingface/datasets/NicolaiSivesind___human-vs-machine/research_abstracts_labeled/0.0.0/9e9ff0b78fa974ae55166fbed3b9032d432c39f2e76909d68bdd53cb4ea313de)\n",
      "100%|██████████| 3/3 [00:00<00:00, 381.94it/s]\n",
      "Loading checkpoint shards:   0%|          | 0/2 [00:00<?, ?it/s]"
     ]
    }
   ],
   "source": [
    "from datasets import load_dataset\n",
    "from transformers import AutoTokenizer, AutoModelForSequenceClassification\n",
    "import torch\n",
    "from torch.nn.utils import prune\n",
    "from torch.utils.data import DataLoader, TensorDataset\n",
    "from transformers import AdamW\n",
    "\n",
    "dataset = load_dataset(\"NicolaiSivesind/human-vs-machine\", \"research_abstracts_labeled\")['train'][0:10]\n",
    "tokenizer = AutoTokenizer.from_pretrained(\"andreas122001/bloomz-3b-wiki-detector\")\n",
    "model = AutoModelForSequenceClassification.from_pretrained(\"andreas122001/bloomz-3b-wiki-detector\")\n",
    "\n",
    "\n",
    "# Load your dataset and preprocess it as needed\n",
    "# Replace the following lines with your actual data loading and preprocessing code\n",
    "texts = dataset['text']\n",
    "labels = torch.tensor(dataset['label']) # Replace with your actual labels\n",
    "\n",
    "# Tokenize and pad the input sequences\n",
    "input_ids = tokenizer(texts, return_tensors='pt', padding=True, truncation=True)['input_ids']\n",
    "\n",
    "# Define your custom dataset and DataLoader\n",
    "dataset = TensorDataset(input_ids, labels)\n",
    "dataloader = DataLoader(dataset, batch_size=32, shuffle=True)\n",
    "\n",
    "# Define a pruning schedule\n",
    "pruning_rate = 0.5\n",
    "pruning_epochs = 1  # Number of epochs to prune the model\n",
    "\n",
    "# Define the optimizer and loss function\n",
    "optimizer = AdamW(model.parameters(), lr=5e-5)\n",
    "criterion = torch.nn.CrossEntropyLoss()\n",
    "\n",
    "# Training loop with pruning\n",
    "for epoch in range(pruning_epochs):\n",
    "    for input_batch, label_batch in dataloader:\n",
    "        optimizer.zero_grad()\n",
    "        outputs = model(input_batch.squeeze(), labels=label_batch)\n",
    "        loss = outputs.loss\n",
    "        loss.backward()\n",
    "        optimizer.step()\n",
    "\n",
    "    # Prune the model after each epoch\n",
    "    prune.global_unstructured(\n",
    "        parameters=model.classifier.parameters(),\n",
    "        pruning_method=prune.L1Unstructured,\n",
    "        amount=pruning_rate,\n",
    "    )\n",
    "\n",
    "# Save the pruned model\n",
    "pruned_model_name = 'your-pruned-model-name'  # Replace with the desired name\n",
    "model.save_pretrained(pruned_model_name)\n",
    "tokenizer.save_pretrained(pruned_model_name)"
   ]
  },
  {
   "cell_type": "code",
   "execution_count": null,
   "metadata": {},
   "outputs": [],
   "source": []
  }
 ],
 "metadata": {
  "kernelspec": {
   "display_name": "Python 3",
   "language": "python",
   "name": "python3"
  },
  "language_info": {
   "codemirror_mode": {
    "name": "ipython",
    "version": 3
   },
   "file_extension": ".py",
   "mimetype": "text/x-python",
   "name": "python",
   "nbconvert_exporter": "python",
   "pygments_lexer": "ipython3",
   "version": "3.10.8"
  }
 },
 "nbformat": 4,
 "nbformat_minor": 2
}
