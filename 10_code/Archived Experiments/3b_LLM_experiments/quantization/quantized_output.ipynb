{
 "cells": [
  {
   "cell_type": "code",
   "execution_count": 1,
   "metadata": {},
   "outputs": [
    {
     "name": "stderr",
     "output_type": "stream",
     "text": [
      "/home/codespace/.local/lib/python3.10/site-packages/tqdm/auto.py:21: TqdmWarning: IProgress not found. Please update jupyter and ipywidgets. See https://ipywidgets.readthedocs.io/en/stable/user_install.html\n",
      "  from .autonotebook import tqdm as notebook_tqdm\n",
      "Found cached dataset human-vs-machine (/home/codespace/.cache/huggingface/datasets/NicolaiSivesind___human-vs-machine/research_abstracts_labeled/0.0.0/9e9ff0b78fa974ae55166fbed3b9032d432c39f2e76909d68bdd53cb4ea313de)\n",
      "100%|██████████| 3/3 [00:00<00:00, 568.92it/s]\n",
      "Loading checkpoint shards: 100%|██████████| 2/2 [00:06<00:00,  3.14s/it]\n"
     ]
    }
   ],
   "source": [
    "# Load model directly\n",
    "from transformers import AutoTokenizer, AutoModelForSequenceClassification\n",
    "from datasets import load_dataset\n",
    "import time\n",
    "import pandas as pd\n",
    "from sklearn.metrics import accuracy_score\n",
    "import torch\n",
    "\n",
    "dataset = load_dataset(\"NicolaiSivesind/human-vs-machine\", \"research_abstracts_labeled\")['test'][0:50]\n",
    "x_test, y_test = dataset['text'], dataset['label']\n",
    "tokenizer = AutoTokenizer.from_pretrained(\"andreas122001/bloomz-3b-wiki-detector\")\n",
    "model = AutoModelForSequenceClassification.from_pretrained(\"andreas122001/bloomz-3b-wiki-detector\")"
   ]
  },
  {
   "cell_type": "markdown",
   "metadata": {},
   "source": [
    "### 1. Quantize the model"
   ]
  },
  {
   "cell_type": "code",
   "execution_count": 2,
   "metadata": {},
   "outputs": [],
   "source": [
    "model = torch.quantization.quantize_dynamic(\n",
    "    model=model,\n",
    "    qconfig_spec={torch.nn.Linear},\n",
    "    dtype=torch.qint8\n",
    ")"
   ]
  },
  {
   "cell_type": "markdown",
   "metadata": {},
   "source": [
    "### 2. Evaluate Performance"
   ]
  },
  {
   "cell_type": "code",
   "execution_count": 3,
   "metadata": {},
   "outputs": [
    {
     "name": "stdout",
     "output_type": "stream",
     "text": [
      "Model size: 2451.211MB\n"
     ]
    }
   ],
   "source": [
    "param_size = 0\n",
    "for param in model.parameters():\n",
    "    param_size += param.nelement() * param.element_size()\n",
    "buffer_size = 0\n",
    "for buffer in model.buffers():\n",
    "    buffer_size += buffer.nelement() * buffer.element_size()\n",
    "\n",
    "base_model_size = (param_size + buffer_size) / 1024**2\n",
    "print('Model size: {:.3f}MB'.format(base_model_size))"
   ]
  },
  {
   "cell_type": "code",
   "execution_count": 4,
   "metadata": {},
   "outputs": [
    {
     "name": "stderr",
     "output_type": "stream",
     "text": [
      "Asking to truncate to max_length but no maximum length is provided and the model has no predefined maximum length. Default to no truncation.\n"
     ]
    },
    {
     "name": "stdout",
     "output_type": "stream",
     "text": [
      "count    50.000000\n",
      "mean      4.368607\n",
      "std       2.297457\n",
      "min       0.890930\n",
      "25%       2.430465\n",
      "50%       4.472417\n",
      "75%       5.759864\n",
      "max      10.271150\n",
      "dtype: float64\n",
      "Accuracy: 0.46\n"
     ]
    }
   ],
   "source": [
    "y_pred = []\n",
    "times = []\n",
    "sigmoid = torch.nn.Sigmoid()\n",
    "for text in x_test:\n",
    "    input = tokenizer(text, return_tensors=\"pt\", padding=True, truncation=True)\n",
    "    st = time.time()\n",
    "    output = model(**input).logits\n",
    "    probs = sigmoid(torch.Tensor(output))[0][0].item()\n",
    "    if probs> 0.5:\n",
    "        output = 1\n",
    "    else:\n",
    "        output = 0\n",
    "    y_pred.append(output)\n",
    "    times.append(time.time() - st)\n",
    "\n",
    "print(pd.Series(times).describe().T)\n",
    "print(\"Accuracy:\", accuracy_score(y_test, y_pred))\n"
   ]
  }
 ],
 "metadata": {
  "kernelspec": {
   "display_name": "Python 3",
   "language": "python",
   "name": "python3"
  },
  "language_info": {
   "codemirror_mode": {
    "name": "ipython",
    "version": 3
   },
   "file_extension": ".py",
   "mimetype": "text/x-python",
   "name": "python",
   "nbconvert_exporter": "python",
   "pygments_lexer": "ipython3",
   "version": "3.10.8"
  }
 },
 "nbformat": 4,
 "nbformat_minor": 2
}
