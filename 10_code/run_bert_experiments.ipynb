{
 "cells": [
  {
   "cell_type": "code",
   "execution_count": 1,
   "metadata": {},
   "outputs": [
    {
     "name": "stderr",
     "output_type": "stream",
     "text": [
      "/home/codespace/.local/lib/python3.10/site-packages/tqdm/auto.py:21: TqdmWarning: IProgress not found. Please update jupyter and ipywidgets. See https://ipywidgets.readthedocs.io/en/stable/user_install.html\n",
      "  from .autonotebook import tqdm as notebook_tqdm\n"
     ]
    }
   ],
   "source": [
    "from CompressionMethods import static_quantization, distillation, pruning\n",
    "import pandas as pd"
   ]
  },
  {
   "cell_type": "markdown",
   "metadata": {},
   "source": [
    "### Initialize all the required parameters"
   ]
  },
  {
   "cell_type": "code",
   "execution_count": 2,
   "metadata": {},
   "outputs": [],
   "source": [
    "model = \"adjohn1313/bert-base-finetuned\"\n",
    "model_type = \"bert\"\n",
    "dataset = \"sem_eval_2018_task_1\"\n",
    "subtask = \"subtask5.english\""
   ]
  },
  {
   "cell_type": "markdown",
   "metadata": {},
   "source": [
    "### 1. Static Quantization"
   ]
  },
  {
   "cell_type": "code",
   "execution_count": 3,
   "metadata": {},
   "outputs": [
    {
     "name": "stdout",
     "output_type": "stream",
     "text": [
      "Results of 4-bit Static Quantization:\n",
      "{'accuracy': 0.27539503386004516,\n",
      " 'mean_time': 0.02808135303902034,\n",
      " 'method': '4bit-static-quantization',\n",
      " 'size': 86.50099754333496}\n",
      "####################################################################################################\n",
      "Results of 8-bit Static Quantization:\n",
      "{'accuracy': 0.26749435665914223,\n",
      " 'mean_time': 0.10081183049264396,\n",
      " 'method': '8bit-static-quantization',\n",
      " 'size': 127.28224754333496}\n",
      "####################################################################################################\n"
     ]
    },
    {
     "name": "stderr",
     "output_type": "stream",
     "text": [
      "Removed shared tensor {'bert.encoder.layer.4.attention.output.dense.weight_format', 'bert.encoder.layer.0.output.dense.weight_format', 'bert.encoder.layer.5.intermediate.dense.weight_format', 'bert.encoder.layer.10.attention.self.value.weight_format', 'bert.encoder.layer.1.attention.self.value.weight_format', 'bert.encoder.layer.2.attention.self.value.weight_format', 'bert.encoder.layer.2.attention.output.dense.weight_format', 'bert.encoder.layer.6.attention.self.value.weight_format', 'bert.encoder.layer.8.intermediate.dense.weight_format', 'bert.encoder.layer.9.attention.self.key.weight_format', 'bert.encoder.layer.1.output.dense.weight_format', 'bert.encoder.layer.5.output.dense.weight_format', 'bert.encoder.layer.6.output.dense.weight_format', 'bert.encoder.layer.10.attention.output.dense.weight_format', 'bert.encoder.layer.7.attention.self.key.weight_format', 'bert.pooler.dense.weight_format', 'bert.encoder.layer.8.attention.self.query.weight_format', 'bert.encoder.layer.2.output.dense.weight_format', 'bert.encoder.layer.3.output.dense.weight_format', 'bert.encoder.layer.2.attention.self.query.weight_format', 'bert.encoder.layer.3.attention.self.query.weight_format', 'bert.encoder.layer.9.attention.self.value.weight_format', 'bert.encoder.layer.11.attention.self.key.weight_format', 'bert.encoder.layer.11.attention.output.dense.weight_format', 'bert.encoder.layer.11.intermediate.dense.weight_format', 'bert.encoder.layer.11.attention.self.query.weight_format', 'bert.encoder.layer.0.attention.self.key.weight_format', 'bert.encoder.layer.5.attention.self.value.weight_format', 'bert.encoder.layer.6.intermediate.dense.weight_format', 'bert.encoder.layer.7.attention.self.query.weight_format', 'bert.encoder.layer.9.attention.self.query.weight_format', 'bert.encoder.layer.7.intermediate.dense.weight_format', 'bert.encoder.layer.5.attention.self.key.weight_format', 'bert.encoder.layer.3.attention.self.key.weight_format', 'bert.encoder.layer.10.output.dense.weight_format', 'bert.encoder.layer.2.attention.self.key.weight_format', 'bert.encoder.layer.0.intermediate.dense.weight_format', 'bert.encoder.layer.3.intermediate.dense.weight_format', 'bert.encoder.layer.4.output.dense.weight_format', 'bert.encoder.layer.9.intermediate.dense.weight_format', 'bert.encoder.layer.5.attention.output.dense.weight_format', 'bert.encoder.layer.9.output.dense.weight_format', 'bert.encoder.layer.10.attention.self.key.weight_format', 'bert.encoder.layer.6.attention.self.query.weight_format', 'bert.encoder.layer.1.attention.self.query.weight_format', 'bert.encoder.layer.10.attention.self.query.weight_format', 'bert.encoder.layer.8.attention.self.key.weight_format', 'bert.encoder.layer.7.attention.self.value.weight_format', 'bert.encoder.layer.7.attention.output.dense.weight_format', 'bert.encoder.layer.0.attention.output.dense.weight_format', 'bert.encoder.layer.6.attention.output.dense.weight_format', 'bert.encoder.layer.1.attention.self.key.weight_format', 'bert.encoder.layer.8.output.dense.weight_format', 'bert.encoder.layer.8.attention.output.dense.weight_format', 'bert.encoder.layer.10.intermediate.dense.weight_format', 'bert.encoder.layer.11.attention.self.value.weight_format', 'bert.encoder.layer.3.attention.self.value.weight_format', 'bert.encoder.layer.0.attention.self.value.weight_format', 'bert.encoder.layer.1.attention.output.dense.weight_format', 'bert.encoder.layer.3.attention.output.dense.weight_format', 'bert.encoder.layer.4.attention.self.value.weight_format', 'bert.encoder.layer.8.attention.self.value.weight_format', 'bert.encoder.layer.11.output.dense.weight_format', 'bert.encoder.layer.4.attention.self.query.weight_format', 'bert.encoder.layer.4.intermediate.dense.weight_format', 'bert.encoder.layer.1.intermediate.dense.weight_format', 'bert.encoder.layer.2.intermediate.dense.weight_format', 'bert.encoder.layer.5.attention.self.query.weight_format', 'bert.encoder.layer.4.attention.self.key.weight_format', 'bert.encoder.layer.6.attention.self.key.weight_format', 'bert.encoder.layer.7.output.dense.weight_format', 'bert.encoder.layer.9.attention.output.dense.weight_format'} while saving. This should be OK, but check by verifying that you don't receive any warning while reloading\n"
     ]
    }
   ],
   "source": [
    "staticQuantizationObject = static_quantization.staticQuantization(model_id=model, dataset_id=dataset, dataset_subsetid=subtask)\n",
    "staticQuantizationObject.run_experiment()"
   ]
  },
  {
   "cell_type": "markdown",
   "metadata": {},
   "source": [
    "### 2. Distillation"
   ]
  },
  {
   "cell_type": "code",
   "execution_count": 4,
   "metadata": {},
   "outputs": [
    {
     "name": "stderr",
     "output_type": "stream",
     "text": [
      "Some weights of DistilBertForSequenceClassification were not initialized from the model checkpoint at distilbert/distilbert-base-uncased and are newly initialized: ['classifier.bias', 'classifier.weight', 'pre_classifier.bias', 'pre_classifier.weight']\n",
      "You should probably TRAIN this model on a down-stream task to be able to use it for predictions and inference.\n",
      "Map: 100%|██████████| 6838/6838 [00:00<00:00, 13901.18 examples/s]\n",
      "Map: 100%|██████████| 3259/3259 [00:00<00:00, 13814.12 examples/s]\n",
      "Map: 100%|██████████| 886/886 [00:00<00:00, 14192.35 examples/s]\n",
      "/home/codespace/.local/lib/python3.10/site-packages/accelerate/accelerator.py:432: FutureWarning: Passing the following arguments to `Accelerator` is deprecated and will be removed in version 1.0 of Accelerate: dict_keys(['dispatch_batches', 'split_batches', 'even_batches', 'use_seedable_sampler']). Please pass an `accelerate.DataLoaderConfiguration` instead: \n",
      "dataloader_config = DataLoaderConfiguration(dispatch_batches=None, split_batches=False, even_batches=True, use_seedable_sampler=True)\n",
      "  warnings.warn(\n"
     ]
    },
    {
     "data": {
      "text/html": [
       "\n",
       "    <div>\n",
       "      \n",
       "      <progress value='4275' max='4275' style='width:300px; height:20px; vertical-align: middle;'></progress>\n",
       "      [4275/4275 07:28, Epoch 5/5]\n",
       "    </div>\n",
       "    <table border=\"1\" class=\"dataframe\">\n",
       "  <thead>\n",
       " <tr style=\"text-align: left;\">\n",
       "      <th>Epoch</th>\n",
       "      <th>Training Loss</th>\n",
       "      <th>Validation Loss</th>\n",
       "      <th>F1</th>\n",
       "      <th>Roc Auc</th>\n",
       "      <th>Accuracy</th>\n",
       "    </tr>\n",
       "  </thead>\n",
       "  <tbody>\n",
       "    <tr>\n",
       "      <td>1</td>\n",
       "      <td>1.062500</td>\n",
       "      <td>0.344743</td>\n",
       "      <td>0.696940</td>\n",
       "      <td>0.797612</td>\n",
       "      <td>0.266366</td>\n",
       "    </tr>\n",
       "    <tr>\n",
       "      <td>2</td>\n",
       "      <td>0.400600</td>\n",
       "      <td>0.300171</td>\n",
       "      <td>0.698539</td>\n",
       "      <td>0.795519</td>\n",
       "      <td>0.278781</td>\n",
       "    </tr>\n",
       "    <tr>\n",
       "      <td>3</td>\n",
       "      <td>0.274900</td>\n",
       "      <td>0.283933</td>\n",
       "      <td>0.695500</td>\n",
       "      <td>0.792310</td>\n",
       "      <td>0.286682</td>\n",
       "    </tr>\n",
       "    <tr>\n",
       "      <td>4</td>\n",
       "      <td>0.229700</td>\n",
       "      <td>0.271652</td>\n",
       "      <td>0.696810</td>\n",
       "      <td>0.792373</td>\n",
       "      <td>0.284424</td>\n",
       "    </tr>\n",
       "    <tr>\n",
       "      <td>5</td>\n",
       "      <td>0.191000</td>\n",
       "      <td>0.264767</td>\n",
       "      <td>0.696130</td>\n",
       "      <td>0.792872</td>\n",
       "      <td>0.273138</td>\n",
       "    </tr>\n",
       "  </tbody>\n",
       "</table><p>"
      ],
      "text/plain": [
       "<IPython.core.display.HTML object>"
      ]
     },
     "metadata": {},
     "output_type": "display_data"
    },
    {
     "name": "stdout",
     "output_type": "stream",
     "text": [
      "Training time:  448.6524896621704\n",
      "Results of Distillation:\n",
      "{'accuracy': 0.2742663656884876,\n",
      " 'mean_time': 0.006577949760729788,\n",
      " 'method': 'Distillation (BERT Only)',\n",
      " 'size': 255.44340133666992}\n",
      "####################################################################################################\n"
     ]
    }
   ],
   "source": [
    "student_model = \"distilbert/distilbert-base-uncased\"\n",
    "distillationObject = distillation.DistillationModule(teacher_model_id=model, student_model_id=student_model, \n",
    "                                                     dataset=dataset, sub_dataset=subtask)\n",
    "distillationObject.run_experiment()"
   ]
  },
  {
   "cell_type": "markdown",
   "metadata": {},
   "source": [
    "### 3. Pruning"
   ]
  },
  {
   "cell_type": "code",
   "execution_count": 5,
   "metadata": {},
   "outputs": [
    {
     "name": "stdout",
     "output_type": "stream",
     "text": [
      "Results of Pruning:\n",
      "{'method': 'Pruning', 'size': 417.6816825866699, 'mean_time': 0.012086537298714872, 'accuracy': 0.27200902934537247}\n",
      "####################################################################################################\n"
     ]
    }
   ],
   "source": [
    "pruningObject = pruning.PruneModel(model_id=model, dataset_id=dataset, dataset_subsetid=subtask)\n",
    "pruningObject.run_experiment()"
   ]
  },
  {
   "cell_type": "markdown",
   "metadata": {},
   "source": [
    "### Saving the results from all experiments"
   ]
  },
  {
   "cell_type": "code",
   "execution_count": 6,
   "metadata": {},
   "outputs": [
    {
     "data": {
      "text/html": [
       "<div>\n",
       "<style scoped>\n",
       "    .dataframe tbody tr th:only-of-type {\n",
       "        vertical-align: middle;\n",
       "    }\n",
       "\n",
       "    .dataframe tbody tr th {\n",
       "        vertical-align: top;\n",
       "    }\n",
       "\n",
       "    .dataframe thead th {\n",
       "        text-align: right;\n",
       "    }\n",
       "</style>\n",
       "<table border=\"1\" class=\"dataframe\">\n",
       "  <thead>\n",
       "    <tr style=\"text-align: right;\">\n",
       "      <th></th>\n",
       "      <th>method</th>\n",
       "      <th>size</th>\n",
       "      <th>mean_time</th>\n",
       "      <th>accuracy</th>\n",
       "    </tr>\n",
       "  </thead>\n",
       "  <tbody>\n",
       "    <tr>\n",
       "      <th>0</th>\n",
       "      <td>4bit-static-quantization</td>\n",
       "      <td>86.500998</td>\n",
       "      <td>0.028081</td>\n",
       "      <td>0.275395</td>\n",
       "    </tr>\n",
       "    <tr>\n",
       "      <th>1</th>\n",
       "      <td>8bit-static-quantization</td>\n",
       "      <td>127.282248</td>\n",
       "      <td>0.100812</td>\n",
       "      <td>0.267494</td>\n",
       "    </tr>\n",
       "    <tr>\n",
       "      <th>2</th>\n",
       "      <td>Distillation (BERT Only)</td>\n",
       "      <td>255.443401</td>\n",
       "      <td>0.006578</td>\n",
       "      <td>0.274266</td>\n",
       "    </tr>\n",
       "    <tr>\n",
       "      <th>3</th>\n",
       "      <td>Pruning</td>\n",
       "      <td>417.681683</td>\n",
       "      <td>0.012087</td>\n",
       "      <td>0.272009</td>\n",
       "    </tr>\n",
       "  </tbody>\n",
       "</table>\n",
       "</div>"
      ],
      "text/plain": [
       "                     method        size  mean_time  accuracy\n",
       "0  4bit-static-quantization   86.500998   0.028081  0.275395\n",
       "1  8bit-static-quantization  127.282248   0.100812  0.267494\n",
       "2  Distillation (BERT Only)  255.443401   0.006578  0.274266\n",
       "3                   Pruning  417.681683   0.012087  0.272009"
      ]
     },
     "metadata": {},
     "output_type": "display_data"
    }
   ],
   "source": [
    "results = pd.DataFrame([\n",
    "    staticQuantizationObject.results_4bit, \n",
    "    staticQuantizationObject.results_8bit, \n",
    "    distillationObject.results_distillation, \n",
    "    pruningObject.results\n",
    "    ])\n",
    "display(results.head())\n",
    "model_name = model.split(\"/\")[-1]\n",
    "results.to_csv(f\"{model_name}_results.csv\", index=False)"
   ]
  },
  {
   "cell_type": "code",
   "execution_count": null,
   "metadata": {},
   "outputs": [],
   "source": []
  }
 ],
 "metadata": {
  "kernelspec": {
   "display_name": "Python 3",
   "language": "python",
   "name": "python3"
  },
  "language_info": {
   "codemirror_mode": {
    "name": "ipython",
    "version": 3
   },
   "file_extension": ".py",
   "mimetype": "text/x-python",
   "name": "python",
   "nbconvert_exporter": "python",
   "pygments_lexer": "ipython3",
   "version": "3.10.13"
  }
 },
 "nbformat": 4,
 "nbformat_minor": 2
}
