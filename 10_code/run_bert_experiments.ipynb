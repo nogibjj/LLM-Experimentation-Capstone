{
 "cells": [
  {
   "cell_type": "code",
   "execution_count": 1,
   "metadata": {},
   "outputs": [
    {
     "name": "stderr",
     "output_type": "stream",
     "text": [
      "/home/codespace/.local/lib/python3.10/site-packages/tqdm/auto.py:21: TqdmWarning: IProgress not found. Please update jupyter and ipywidgets. See https://ipywidgets.readthedocs.io/en/stable/user_install.html\n",
      "  from .autonotebook import tqdm as notebook_tqdm\n"
     ]
    }
   ],
   "source": [
    "from CompressionMethods import static_quantization, distillation, pruning\n",
    "import pandas as pd"
   ]
  },
  {
   "cell_type": "markdown",
   "metadata": {},
   "source": [
    "### Initialize all the required parameters"
   ]
  },
  {
   "cell_type": "code",
   "execution_count": 2,
   "metadata": {},
   "outputs": [],
   "source": [
    "model = \"adjohn1313/bert-base-finetuned\"\n",
    "model_type = \"bert\"\n",
    "dataset = \"sem_eval_2018_task_1\"\n",
    "subtask = \"subtask5.english\""
   ]
  },
  {
   "cell_type": "markdown",
   "metadata": {},
   "source": [
    "### 1. Static Quantization"
   ]
  },
  {
   "cell_type": "code",
   "execution_count": 3,
   "metadata": {},
   "outputs": [
    {
     "name": "stdout",
     "output_type": "stream",
     "text": [
      "Results of 4-bit Static Quantization:\n",
      "{'accuracy': 0.27539503386004516,\n",
      " 'mean_time': 0.02808135303902034,\n",
      " 'method': '4bit-static-quantization',\n",
      " 'size': 86.50099754333496}\n",
      "####################################################################################################\n",
      "Results of 8-bit Static Quantization:\n",
      "{'accuracy': 0.26749435665914223,\n",
      " 'mean_time': 0.10081183049264396,\n",
      " 'method': '8bit-static-quantization',\n",
      " 'size': 127.28224754333496}\n",
      "####################################################################################################\n"
     ]
    },
    {
     "name": "stderr",
     "output_type": "stream",
     "text": [
      "Removed shared tensor {'bert.encoder.layer.4.attention.output.dense.weight_format', 'bert.encoder.layer.0.output.dense.weight_format', 'bert.encoder.layer.5.intermediate.dense.weight_format', 'bert.encoder.layer.10.attention.self.value.weight_format', 'bert.encoder.layer.1.attention.self.value.weight_format', 'bert.encoder.layer.2.attention.self.value.weight_format', 'bert.encoder.layer.2.attention.output.dense.weight_format', 'bert.encoder.layer.6.attention.self.value.weight_format', 'bert.encoder.layer.8.intermediate.dense.weight_format', 'bert.encoder.layer.9.attention.self.key.weight_format', 'bert.encoder.layer.1.output.dense.weight_format', 'bert.encoder.layer.5.output.dense.weight_format', 'bert.encoder.layer.6.output.dense.weight_format', 'bert.encoder.layer.10.attention.output.dense.weight_format', 'bert.encoder.layer.7.attention.self.key.weight_format', 'bert.pooler.dense.weight_format', 'bert.encoder.layer.8.attention.self.query.weight_format', 'bert.encoder.layer.2.output.dense.weight_format', 'bert.encoder.layer.3.output.dense.weight_format', 'bert.encoder.layer.2.attention.self.query.weight_format', 'bert.encoder.layer.3.attention.self.query.weight_format', 'bert.encoder.layer.9.attention.self.value.weight_format', 'bert.encoder.layer.11.attention.self.key.weight_format', 'bert.encoder.layer.11.attention.output.dense.weight_format', 'bert.encoder.layer.11.intermediate.dense.weight_format', 'bert.encoder.layer.11.attention.self.query.weight_format', 'bert.encoder.layer.0.attention.self.key.weight_format', 'bert.encoder.layer.5.attention.self.value.weight_format', 'bert.encoder.layer.6.intermediate.dense.weight_format', 'bert.encoder.layer.7.attention.self.query.weight_format', 'bert.encoder.layer.9.attention.self.query.weight_format', 'bert.encoder.layer.7.intermediate.dense.weight_format', 'bert.encoder.layer.5.attention.self.key.weight_format', 'bert.encoder.layer.3.attention.self.key.weight_format', 'bert.encoder.layer.10.output.dense.weight_format', 'bert.encoder.layer.2.attention.self.key.weight_format', 'bert.encoder.layer.0.intermediate.dense.weight_format', 'bert.encoder.layer.3.intermediate.dense.weight_format', 'bert.encoder.layer.4.output.dense.weight_format', 'bert.encoder.layer.9.intermediate.dense.weight_format', 'bert.encoder.layer.5.attention.output.dense.weight_format', 'bert.encoder.layer.9.output.dense.weight_format', 'bert.encoder.layer.10.attention.self.key.weight_format', 'bert.encoder.layer.6.attention.self.query.weight_format', 'bert.encoder.layer.1.attention.self.query.weight_format', 'bert.encoder.layer.10.attention.self.query.weight_format', 'bert.encoder.layer.8.attention.self.key.weight_format', 'bert.encoder.layer.7.attention.self.value.weight_format', 'bert.encoder.layer.7.attention.output.dense.weight_format', 'bert.encoder.layer.0.attention.output.dense.weight_format', 'bert.encoder.layer.6.attention.output.dense.weight_format', 'bert.encoder.layer.1.attention.self.key.weight_format', 'bert.encoder.layer.8.output.dense.weight_format', 'bert.encoder.layer.8.attention.output.dense.weight_format', 'bert.encoder.layer.10.intermediate.dense.weight_format', 'bert.encoder.layer.11.attention.self.value.weight_format', 'bert.encoder.layer.3.attention.self.value.weight_format', 'bert.encoder.layer.0.attention.self.value.weight_format', 'bert.encoder.layer.1.attention.output.dense.weight_format', 'bert.encoder.layer.3.attention.output.dense.weight_format', 'bert.encoder.layer.4.attention.self.value.weight_format', 'bert.encoder.layer.8.attention.self.value.weight_format', 'bert.encoder.layer.11.output.dense.weight_format', 'bert.encoder.layer.4.attention.self.query.weight_format', 'bert.encoder.layer.4.intermediate.dense.weight_format', 'bert.encoder.layer.1.intermediate.dense.weight_format', 'bert.encoder.layer.2.intermediate.dense.weight_format', 'bert.encoder.layer.5.attention.self.query.weight_format', 'bert.encoder.layer.4.attention.self.key.weight_format', 'bert.encoder.layer.6.attention.self.key.weight_format', 'bert.encoder.layer.7.output.dense.weight_format', 'bert.encoder.layer.9.attention.output.dense.weight_format'} while saving. This should be OK, but check by verifying that you don't receive any warning while reloading\n"
     ]
    }
   ],
   "source": [
    "staticQuantizationObject = static_quantization.staticQuantization(model_id=model, dataset_id=dataset, dataset_subsetid=subtask)\n",
    "staticQuantizationObject.run_experiment()"
   ]
  },
  {
   "cell_type": "markdown",
   "metadata": {},
   "source": [
    "### 2. Distillation"
   ]
  },
  {
   "cell_type": "code",
   "execution_count": null,
   "metadata": {},
   "outputs": [],
   "source": [
    "student_model = \"distilbert/distilbert-base-uncased\"\n",
    "distillationObject = distillation.DistillationModule(teacher_model_id=model, student_model_id=student_model, \n",
    "                                                     dataset=dataset, sub_dataset=subtask)\n",
    "distillationObject.run_experiment()"
   ]
  },
  {
   "cell_type": "markdown",
   "metadata": {},
   "source": [
    "### 3. Pruning"
   ]
  },
  {
   "cell_type": "code",
   "execution_count": null,
   "metadata": {},
   "outputs": [],
   "source": [
    "pruningObject = pruning.PruneModel(model_id=model, dataset_id=dataset, dataset_subsetid=subtask)\n",
    "pruningObject.run_experiment()"
   ]
  },
  {
   "cell_type": "markdown",
   "metadata": {},
   "source": [
    "### Saving the results from all experiments"
   ]
  },
  {
   "cell_type": "code",
   "execution_count": null,
   "metadata": {},
   "outputs": [],
   "source": [
    "results = pd.DataFrame([\n",
    "    staticQuantizationObject.results_4bit, \n",
    "    staticQuantizationObject.results_8bit, \n",
    "    distillationObject.results_distillation, \n",
    "    pruningObject.results\n",
    "    ])\n",
    "model_name = model.split(\"/\")[-1]\n",
    "results.to_csv(f\"{model_name}_results.csv\", index=False)"
   ]
  }
 ],
 "metadata": {
  "kernelspec": {
   "display_name": "Python 3",
   "language": "python",
   "name": "python3"
  },
  "language_info": {
   "codemirror_mode": {
    "name": "ipython",
    "version": 3
   },
   "file_extension": ".py",
   "mimetype": "text/x-python",
   "name": "python",
   "nbconvert_exporter": "python",
   "pygments_lexer": "ipython3",
   "version": "3.10.13"
  }
 },
 "nbformat": 4,
 "nbformat_minor": 2
}
